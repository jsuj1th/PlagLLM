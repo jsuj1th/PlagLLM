{
 "cells": [
  {
   "cell_type": "code",
   "execution_count": null,
   "id": "ca86ce58",
   "metadata": {},
   "outputs": [],
   "source": [
    "!pip install lime\n"
   ]
  },
  {
   "cell_type": "code",
   "execution_count": 2,
   "id": "6ef824cc",
   "metadata": {},
   "outputs": [
    {
     "name": "stdout",
     "output_type": "stream",
     "text": [
      "Collecting tensorflow\n",
      "  Downloading tensorflow-2.19.0-cp312-cp312-macosx_12_0_arm64.whl.metadata (4.0 kB)\n",
      "Requirement already satisfied: absl-py>=1.0.0 in /opt/anaconda3/lib/python3.12/site-packages (from tensorflow) (2.2.2)\n",
      "Collecting astunparse>=1.6.0 (from tensorflow)\n",
      "  Using cached astunparse-1.6.3-py2.py3-none-any.whl.metadata (4.4 kB)\n",
      "Requirement already satisfied: flatbuffers>=24.3.25 in /opt/anaconda3/lib/python3.12/site-packages (from tensorflow) (25.2.10)\n",
      "Collecting gast!=0.5.0,!=0.5.1,!=0.5.2,>=0.2.1 (from tensorflow)\n",
      "  Using cached gast-0.6.0-py3-none-any.whl.metadata (1.3 kB)\n",
      "Collecting google-pasta>=0.1.1 (from tensorflow)\n",
      "  Using cached google_pasta-0.2.0-py3-none-any.whl.metadata (814 bytes)\n",
      "Collecting libclang>=13.0.0 (from tensorflow)\n",
      "  Using cached libclang-18.1.1-1-py2.py3-none-macosx_11_0_arm64.whl.metadata (5.2 kB)\n",
      "Collecting opt-einsum>=2.3.2 (from tensorflow)\n",
      "  Using cached opt_einsum-3.4.0-py3-none-any.whl.metadata (6.3 kB)\n",
      "Requirement already satisfied: packaging in /opt/anaconda3/lib/python3.12/site-packages (from tensorflow) (24.1)\n",
      "Requirement already satisfied: protobuf!=4.21.0,!=4.21.1,!=4.21.2,!=4.21.3,!=4.21.4,!=4.21.5,<6.0.0dev,>=3.20.3 in /opt/anaconda3/lib/python3.12/site-packages (from tensorflow) (4.25.3)\n",
      "Requirement already satisfied: requests<3,>=2.21.0 in /opt/anaconda3/lib/python3.12/site-packages (from tensorflow) (2.32.3)\n",
      "Requirement already satisfied: setuptools in /opt/anaconda3/lib/python3.12/site-packages (from tensorflow) (75.1.0)\n",
      "Requirement already satisfied: six>=1.12.0 in /opt/anaconda3/lib/python3.12/site-packages (from tensorflow) (1.16.0)\n",
      "Collecting termcolor>=1.1.0 (from tensorflow)\n",
      "  Downloading termcolor-3.1.0-py3-none-any.whl.metadata (6.4 kB)\n",
      "Requirement already satisfied: typing-extensions>=3.6.6 in /opt/anaconda3/lib/python3.12/site-packages (from tensorflow) (4.11.0)\n",
      "Requirement already satisfied: wrapt>=1.11.0 in /opt/anaconda3/lib/python3.12/site-packages (from tensorflow) (1.14.1)\n",
      "Requirement already satisfied: grpcio<2.0,>=1.24.3 in /opt/anaconda3/lib/python3.12/site-packages (from tensorflow) (1.71.0)\n",
      "Requirement already satisfied: tensorboard~=2.19.0 in /opt/anaconda3/lib/python3.12/site-packages (from tensorflow) (2.19.0)\n",
      "Collecting keras>=3.5.0 (from tensorflow)\n",
      "  Downloading keras-3.10.0-py3-none-any.whl.metadata (6.0 kB)\n",
      "Requirement already satisfied: numpy<2.2.0,>=1.26.0 in /opt/anaconda3/lib/python3.12/site-packages (from tensorflow) (1.26.4)\n",
      "Requirement already satisfied: h5py>=3.11.0 in /opt/anaconda3/lib/python3.12/site-packages (from tensorflow) (3.11.0)\n",
      "Collecting ml-dtypes<1.0.0,>=0.5.1 (from tensorflow)\n",
      "  Downloading ml_dtypes-0.5.1-cp312-cp312-macosx_10_9_universal2.whl.metadata (21 kB)\n",
      "Requirement already satisfied: wheel<1.0,>=0.23.0 in /opt/anaconda3/lib/python3.12/site-packages (from astunparse>=1.6.0->tensorflow) (0.44.0)\n",
      "Requirement already satisfied: rich in /opt/anaconda3/lib/python3.12/site-packages (from keras>=3.5.0->tensorflow) (13.7.1)\n",
      "Collecting namex (from keras>=3.5.0->tensorflow)\n",
      "  Downloading namex-0.1.0-py3-none-any.whl.metadata (322 bytes)\n",
      "Collecting optree (from keras>=3.5.0->tensorflow)\n",
      "  Downloading optree-0.17.0-cp312-cp312-macosx_11_0_arm64.whl.metadata (33 kB)\n",
      "Requirement already satisfied: charset-normalizer<4,>=2 in /opt/anaconda3/lib/python3.12/site-packages (from requests<3,>=2.21.0->tensorflow) (3.3.2)\n",
      "Requirement already satisfied: idna<4,>=2.5 in /opt/anaconda3/lib/python3.12/site-packages (from requests<3,>=2.21.0->tensorflow) (3.7)\n",
      "Requirement already satisfied: urllib3<3,>=1.21.1 in /opt/anaconda3/lib/python3.12/site-packages (from requests<3,>=2.21.0->tensorflow) (2.2.3)\n",
      "Requirement already satisfied: certifi>=2017.4.17 in /opt/anaconda3/lib/python3.12/site-packages (from requests<3,>=2.21.0->tensorflow) (2025.1.31)\n",
      "Requirement already satisfied: markdown>=2.6.8 in /opt/anaconda3/lib/python3.12/site-packages (from tensorboard~=2.19.0->tensorflow) (3.4.1)\n",
      "Requirement already satisfied: tensorboard-data-server<0.8.0,>=0.7.0 in /opt/anaconda3/lib/python3.12/site-packages (from tensorboard~=2.19.0->tensorflow) (0.7.2)\n",
      "Requirement already satisfied: werkzeug>=1.0.1 in /opt/anaconda3/lib/python3.12/site-packages (from tensorboard~=2.19.0->tensorflow) (3.0.3)\n",
      "Requirement already satisfied: MarkupSafe>=2.1.1 in /opt/anaconda3/lib/python3.12/site-packages (from werkzeug>=1.0.1->tensorboard~=2.19.0->tensorflow) (2.1.3)\n",
      "Requirement already satisfied: markdown-it-py>=2.2.0 in /opt/anaconda3/lib/python3.12/site-packages (from rich->keras>=3.5.0->tensorflow) (2.2.0)\n",
      "Requirement already satisfied: pygments<3.0.0,>=2.13.0 in /opt/anaconda3/lib/python3.12/site-packages (from rich->keras>=3.5.0->tensorflow) (2.15.1)\n",
      "Requirement already satisfied: mdurl~=0.1 in /opt/anaconda3/lib/python3.12/site-packages (from markdown-it-py>=2.2.0->rich->keras>=3.5.0->tensorflow) (0.1.0)\n",
      "Downloading tensorflow-2.19.0-cp312-cp312-macosx_12_0_arm64.whl (252.7 MB)\n",
      "\u001b[2K   \u001b[90m━━━━━━━━━━━━━━━━━━━━━━━━━━━━━━━━━━━━━━━━\u001b[0m \u001b[32m252.7/252.7 MB\u001b[0m \u001b[31m3.2 MB/s\u001b[0m eta \u001b[36m0:00:00\u001b[0m00:01\u001b[0m00:03\u001b[0m\n",
      "\u001b[?25hUsing cached astunparse-1.6.3-py2.py3-none-any.whl (12 kB)\n",
      "Using cached gast-0.6.0-py3-none-any.whl (21 kB)\n",
      "Using cached google_pasta-0.2.0-py3-none-any.whl (57 kB)\n",
      "Downloading keras-3.10.0-py3-none-any.whl (1.4 MB)\n",
      "\u001b[2K   \u001b[90m━━━━━━━━━━━━━━━━━━━━━━━━━━━━━━━━━━━━━━━━\u001b[0m \u001b[32m1.4/1.4 MB\u001b[0m \u001b[31m5.0 MB/s\u001b[0m eta \u001b[36m0:00:00\u001b[0ma \u001b[36m0:00:01\u001b[0m\n",
      "\u001b[?25hUsing cached libclang-18.1.1-1-py2.py3-none-macosx_11_0_arm64.whl (25.8 MB)\n",
      "Downloading ml_dtypes-0.5.1-cp312-cp312-macosx_10_9_universal2.whl (670 kB)\n",
      "\u001b[2K   \u001b[90m━━━━━━━━━━━━━━━━━━━━━━━━━━━━━━━━━━━━━━━━\u001b[0m \u001b[32m670.4/670.4 kB\u001b[0m \u001b[31m4.6 MB/s\u001b[0m eta \u001b[36m0:00:00\u001b[0m\n",
      "\u001b[?25hUsing cached opt_einsum-3.4.0-py3-none-any.whl (71 kB)\n",
      "Downloading termcolor-3.1.0-py3-none-any.whl (7.7 kB)\n",
      "Downloading namex-0.1.0-py3-none-any.whl (5.9 kB)\n",
      "Downloading optree-0.17.0-cp312-cp312-macosx_11_0_arm64.whl (351 kB)\n",
      "Installing collected packages: namex, libclang, termcolor, optree, opt-einsum, ml-dtypes, google-pasta, gast, astunparse, keras, tensorflow\n",
      "Successfully installed astunparse-1.6.3 gast-0.6.0 google-pasta-0.2.0 keras-3.10.0 libclang-18.1.1 ml-dtypes-0.5.1 namex-0.1.0 opt-einsum-3.4.0 optree-0.17.0 tensorflow-2.19.0 termcolor-3.1.0\n"
     ]
    }
   ],
   "source": [
    "!pip install tensorflow"
   ]
  },
  {
   "cell_type": "code",
   "execution_count": 3,
   "id": "54a2379b",
   "metadata": {},
   "outputs": [],
   "source": [
    "#Importing Necessary Libraries\n",
    "import numpy as np\n",
    "import pandas as pd\n",
    "import tensorflow as tf\n",
    "import os\n",
    "import seaborn as sns\n",
    "import string\n",
    "from tensorflow.keras.preprocessing.text import Tokenizer\n",
    "from tensorflow.keras.preprocessing.sequence import pad_sequences\n",
    "from tensorflow.keras.models import Sequential\n",
    "from tensorflow.keras.layers import Embedding, LSTM, Dense, SpatialDropout1D\n",
    "from sklearn.model_selection import train_test_split\n",
    "from sklearn.metrics import classification_report\n",
    "from sklearn.pipeline import Pipeline, make_pipeline\n",
    "from sklearn.feature_extraction.text import CountVectorizer, TfidfTransformer, TfidfVectorizer\n",
    "from sklearn.naive_bayes import MultinomialNB\n",
    "from lime.lime_text import LimeTextExplainer"
   ]
  },
  {
   "cell_type": "code",
   "execution_count": 5,
   "id": "66966ee7",
   "metadata": {},
   "outputs": [],
   "source": [
    "chat_df=pd.read_csv('OpenGPTText_cSV_format/AI/urlsf_subset00.csv')\n",
    "chat_df_1=pd.read_csv('OpenGPTText_cSV_format/AI/urlsf_subset01.csv')\n",
    "chat_df_2=pd.read_csv('OpenGPTText_cSV_format/AI/urlsf_subset02.csv')\n",
    "chat_df_3=pd.read_csv('OpenGPTText_cSV_format/AI/urlsf_subset03.csv')\n",
    "chat_df_4=pd.read_csv('OpenGPTText_cSV_format/AI/urlsf_subset04.csv')\n",
    "chat_df_5=pd.read_csv('OpenGPTText_cSV_format/AI/urlsf_subset05.csv')\n",
    "chat_df_6=pd.read_csv('OpenGPTText_cSV_format/AI/urlsf_subset06.csv')\n",
    "chat_df_9=pd.read_csv('OpenGPTText_cSV_format/AI/urlsf_subset09.csv')"
   ]
  },
  {
   "cell_type": "code",
   "execution_count": 6,
   "id": "ff1208b1",
   "metadata": {},
   "outputs": [
    {
     "data": {
      "text/html": [
       "<div>\n",
       "<style scoped>\n",
       "    .dataframe tbody tr th:only-of-type {\n",
       "        vertical-align: middle;\n",
       "    }\n",
       "\n",
       "    .dataframe tbody tr th {\n",
       "        vertical-align: top;\n",
       "    }\n",
       "\n",
       "    .dataframe thead th {\n",
       "        text-align: right;\n",
       "    }\n",
       "</style>\n",
       "<table border=\"1\" class=\"dataframe\">\n",
       "  <thead>\n",
       "    <tr style=\"text-align: right;\">\n",
       "      <th></th>\n",
       "      <th>uid</th>\n",
       "      <th>text</th>\n",
       "    </tr>\n",
       "  </thead>\n",
       "  <tbody>\n",
       "    <tr>\n",
       "      <th>0</th>\n",
       "      <td>[urlsf_subset00]-[83]</td>\n",
       "      <td>The National Weather Service's Mike McFarland ...</td>\n",
       "    </tr>\n",
       "    <tr>\n",
       "      <th>1</th>\n",
       "      <td>[urlsf_subset00]-[89]</td>\n",
       "      <td>The President of the United States was seen on...</td>\n",
       "    </tr>\n",
       "    <tr>\n",
       "      <th>2</th>\n",
       "      <td>[urlsf_subset00]-[390]</td>\n",
       "      <td>Enner Valencia scored two goals in Ecuador's 2...</td>\n",
       "    </tr>\n",
       "    <tr>\n",
       "      <th>3</th>\n",
       "      <td>[urlsf_subset00]-[457]</td>\n",
       "      <td>Beginning with the introduction, the author sh...</td>\n",
       "    </tr>\n",
       "    <tr>\n",
       "      <th>4</th>\n",
       "      <td>[urlsf_subset00]-[458]</td>\n",
       "      <td>Mexico has implemented its newest data retenti...</td>\n",
       "    </tr>\n",
       "  </tbody>\n",
       "</table>\n",
       "</div>"
      ],
      "text/plain": [
       "                      uid                                               text\n",
       "0   [urlsf_subset00]-[83]  The National Weather Service's Mike McFarland ...\n",
       "1   [urlsf_subset00]-[89]  The President of the United States was seen on...\n",
       "2  [urlsf_subset00]-[390]  Enner Valencia scored two goals in Ecuador's 2...\n",
       "3  [urlsf_subset00]-[457]  Beginning with the introduction, the author sh...\n",
       "4  [urlsf_subset00]-[458]  Mexico has implemented its newest data retenti..."
      ]
     },
     "execution_count": 6,
     "metadata": {},
     "output_type": "execute_result"
    }
   ],
   "source": [
    "chat_df.head()"
   ]
  },
  {
   "cell_type": "code",
   "execution_count": 7,
   "id": "a2ff97f2",
   "metadata": {},
   "outputs": [
    {
     "data": {
      "text/html": [
       "<div>\n",
       "<style scoped>\n",
       "    .dataframe tbody tr th:only-of-type {\n",
       "        vertical-align: middle;\n",
       "    }\n",
       "\n",
       "    .dataframe tbody tr th {\n",
       "        vertical-align: top;\n",
       "    }\n",
       "\n",
       "    .dataframe thead th {\n",
       "        text-align: right;\n",
       "    }\n",
       "</style>\n",
       "<table border=\"1\" class=\"dataframe\">\n",
       "  <thead>\n",
       "    <tr style=\"text-align: right;\">\n",
       "      <th></th>\n",
       "      <th>uid</th>\n",
       "      <th>text</th>\n",
       "    </tr>\n",
       "  </thead>\n",
       "  <tbody>\n",
       "    <tr>\n",
       "      <th>0</th>\n",
       "      <td>[urlsf_subset00]-[83]</td>\n",
       "      <td>The National Weather Service's Mike McFarland ...</td>\n",
       "    </tr>\n",
       "    <tr>\n",
       "      <th>1</th>\n",
       "      <td>[urlsf_subset00]-[89]</td>\n",
       "      <td>The President of the United States was seen on...</td>\n",
       "    </tr>\n",
       "    <tr>\n",
       "      <th>2</th>\n",
       "      <td>[urlsf_subset00]-[390]</td>\n",
       "      <td>Enner Valencia scored two goals in Ecuador's 2...</td>\n",
       "    </tr>\n",
       "    <tr>\n",
       "      <th>3</th>\n",
       "      <td>[urlsf_subset00]-[457]</td>\n",
       "      <td>Beginning with the introduction, the author sh...</td>\n",
       "    </tr>\n",
       "    <tr>\n",
       "      <th>4</th>\n",
       "      <td>[urlsf_subset00]-[458]</td>\n",
       "      <td>Mexico has implemented its newest data retenti...</td>\n",
       "    </tr>\n",
       "  </tbody>\n",
       "</table>\n",
       "</div>"
      ],
      "text/plain": [
       "                      uid                                               text\n",
       "0   [urlsf_subset00]-[83]  The National Weather Service's Mike McFarland ...\n",
       "1   [urlsf_subset00]-[89]  The President of the United States was seen on...\n",
       "2  [urlsf_subset00]-[390]  Enner Valencia scored two goals in Ecuador's 2...\n",
       "3  [urlsf_subset00]-[457]  Beginning with the introduction, the author sh...\n",
       "4  [urlsf_subset00]-[458]  Mexico has implemented its newest data retenti..."
      ]
     },
     "execution_count": 7,
     "metadata": {},
     "output_type": "execute_result"
    }
   ],
   "source": [
    "ai_generated_df=pd.concat([chat_df,chat_df_1,chat_df_2,chat_df_3,chat_df_4,chat_df_5,chat_df_6,chat_df_9])\n",
    "ai_generated_df.head()"
   ]
  },
  {
   "cell_type": "code",
   "execution_count": 8,
   "id": "f64da118",
   "metadata": {},
   "outputs": [
    {
     "data": {
      "text/plain": [
       "(29395, 2)"
      ]
     },
     "execution_count": 8,
     "metadata": {},
     "output_type": "execute_result"
    }
   ],
   "source": [
    "ai_generated_df.shape"
   ]
  },
  {
   "cell_type": "code",
   "execution_count": 9,
   "id": "b2d3ded7",
   "metadata": {},
   "outputs": [],
   "source": [
    "ai_generated_df['label']=1"
   ]
  },
  {
   "cell_type": "code",
   "execution_count": 10,
   "id": "74c7ad12",
   "metadata": {},
   "outputs": [
    {
     "data": {
      "text/html": [
       "<div>\n",
       "<style scoped>\n",
       "    .dataframe tbody tr th:only-of-type {\n",
       "        vertical-align: middle;\n",
       "    }\n",
       "\n",
       "    .dataframe tbody tr th {\n",
       "        vertical-align: top;\n",
       "    }\n",
       "\n",
       "    .dataframe thead th {\n",
       "        text-align: right;\n",
       "    }\n",
       "</style>\n",
       "<table border=\"1\" class=\"dataframe\">\n",
       "  <thead>\n",
       "    <tr style=\"text-align: right;\">\n",
       "      <th></th>\n",
       "      <th>uid</th>\n",
       "      <th>text</th>\n",
       "      <th>label</th>\n",
       "    </tr>\n",
       "  </thead>\n",
       "  <tbody>\n",
       "    <tr>\n",
       "      <th>0</th>\n",
       "      <td>[urlsf_subset00]-[83]</td>\n",
       "      <td>The National Weather Service's Mike McFarland ...</td>\n",
       "      <td>1</td>\n",
       "    </tr>\n",
       "    <tr>\n",
       "      <th>1</th>\n",
       "      <td>[urlsf_subset00]-[89]</td>\n",
       "      <td>The President of the United States was seen on...</td>\n",
       "      <td>1</td>\n",
       "    </tr>\n",
       "    <tr>\n",
       "      <th>2</th>\n",
       "      <td>[urlsf_subset00]-[390]</td>\n",
       "      <td>Enner Valencia scored two goals in Ecuador's 2...</td>\n",
       "      <td>1</td>\n",
       "    </tr>\n",
       "    <tr>\n",
       "      <th>3</th>\n",
       "      <td>[urlsf_subset00]-[457]</td>\n",
       "      <td>Beginning with the introduction, the author sh...</td>\n",
       "      <td>1</td>\n",
       "    </tr>\n",
       "    <tr>\n",
       "      <th>4</th>\n",
       "      <td>[urlsf_subset00]-[458]</td>\n",
       "      <td>Mexico has implemented its newest data retenti...</td>\n",
       "      <td>1</td>\n",
       "    </tr>\n",
       "  </tbody>\n",
       "</table>\n",
       "</div>"
      ],
      "text/plain": [
       "                      uid                                               text  \\\n",
       "0   [urlsf_subset00]-[83]  The National Weather Service's Mike McFarland ...   \n",
       "1   [urlsf_subset00]-[89]  The President of the United States was seen on...   \n",
       "2  [urlsf_subset00]-[390]  Enner Valencia scored two goals in Ecuador's 2...   \n",
       "3  [urlsf_subset00]-[457]  Beginning with the introduction, the author sh...   \n",
       "4  [urlsf_subset00]-[458]  Mexico has implemented its newest data retenti...   \n",
       "\n",
       "   label  \n",
       "0      1  \n",
       "1      1  \n",
       "2      1  \n",
       "3      1  \n",
       "4      1  "
      ]
     },
     "execution_count": 10,
     "metadata": {},
     "output_type": "execute_result"
    }
   ],
   "source": [
    "ai_generated_df.head()"
   ]
  },
  {
   "cell_type": "code",
   "execution_count": 11,
   "id": "16f601af",
   "metadata": {},
   "outputs": [],
   "source": [
    "ai_df = ai_generated_df.drop(columns=['uid'])\n",
    "\n",
    "# Save the updated DataFrame back to a CSV file\n",
    "ai_df.to_csv('ai.csv', index=False)"
   ]
  },
  {
   "cell_type": "code",
   "execution_count": 12,
   "id": "cd24faa3",
   "metadata": {},
   "outputs": [
    {
     "name": "stdout",
     "output_type": "stream",
     "text": [
      "the: 506565\n",
      "to: 234189\n",
      "and: 205409\n",
      "of: 196799\n",
      "in: 150222\n",
      "that: 106459\n",
      "is: 91213\n",
      "for: 85026\n",
      "with: 63383\n",
      "on: 63117\n",
      "as: 56247\n",
      "it: 50299\n",
      "has: 48201\n",
      "was: 47442\n",
      "be: 42953\n",
      "by: 40812\n",
      "from: 37660\n",
      "are: 37630\n",
      "he: 36138\n",
      "this: 35312\n",
      "his: 35014\n",
      "have: 34594\n",
      "their: 32471\n",
      "an: 32359\n",
      "at: 29987\n",
      "not: 29605\n",
      "will: 29583\n",
      "they: 27261\n",
      "which: 25207\n",
      "been: 22162\n",
      "who: 21875\n",
      "or: 20563\n",
      "but: 19458\n",
      "can: 18728\n",
      "had: 17788\n",
      "also: 17563\n",
      "were: 17362\n",
      "new: 17108\n",
      "more: 16577\n",
      "however: 15778\n",
      "one: 15616\n",
      "its: 15337\n",
      "about: 14371\n",
      "would: 13589\n",
      "while: 12635\n",
      "her: 12502\n",
      "when: 12250\n",
      "after: 12105\n",
      "there: 12030\n",
      "up: 11998\n"
     ]
    },
    {
     "name": "stderr",
     "output_type": "stream",
     "text": [
      "/var/folders/hn/9hd29hb13471cqb3n5qsh7gw0000gn/T/ipykernel_87738/4148577766.py:24: FutureWarning: \n",
      "\n",
      "Passing `palette` without assigning `hue` is deprecated and will be removed in v0.14.0. Assign the `y` variable to `hue` and set `legend=False` for the same effect.\n",
      "\n",
      "  sns.barplot(x=list(freqs), y=list(words), palette='viridis')\n"
     ]
    },
    {
     "data": {
      "image/png": "[encoded data removed]",
      "text/plain": [
       "<Figure size 2000x1200 with 1 Axes>"
      ]
     },
     "metadata": {},
     "output_type": "display_data"
    }
   ],
   "source": [
    "import pandas as pd\n",
    "from sklearn.feature_extraction.text import CountVectorizer\n",
    "import matplotlib.pyplot as plt\n",
    "import seaborn as sns\n",
    "\n",
    "# Assuming ai_df is your dataframe and it contains a column 'text'\n",
    "# Step 1: Create the Bag of Words model\n",
    "vectorizer = CountVectorizer()\n",
    "X = vectorizer.fit_transform(ai_df['text'])\n",
    "\n",
    "# Step 2: Sum up the word counts and get the top 25 words\n",
    "word_counts = X.toarray().sum(axis=0)\n",
    "word_freq = dict(zip(vectorizer.get_feature_names_out(), word_counts))\n",
    "sorted_word_freq = sorted(word_freq.items(), key=lambda item: item[1], reverse=True)\n",
    "top_50_words = sorted_word_freq[:50]\n",
    "\n",
    "# Print the top 25 words with their frequencies\n",
    "for word, freq in top_50_words:\n",
    "    print(f\"{word}: {freq}\")\n",
    "\n",
    "# Step 3: Plot the frequencies\n",
    "words, freqs = zip(*top_50_words)\n",
    "plt.figure(figsize=(20, 12))\n",
    "sns.barplot(x=list(freqs), y=list(words), palette='viridis')\n",
    "plt.xlabel('Frequency')\n",
    "plt.ylabel('Top 100 Words')\n",
    "plt.title('Top 100 Words by Frequency')\n",
    "plt.show()\n"
   ]
  },
  {
   "cell_type": "code",
   "execution_count": 13,
   "id": "249d5404",
   "metadata": {},
   "outputs": [],
   "source": [
    "open_df=pd.read_csv('OpenGPTText_cSV_format/Human/urlsf_subset00 (1).csv')\n",
    "open_df_1=pd.read_csv('OpenGPTText_cSV_format/Human/urlsf_subset01 (1).csv')\n",
    "open_df_2=pd.read_csv('OpenGPTText_cSV_format/Human/urlsf_subset02 (1).csv')\n",
    "open_df_3=pd.read_csv('OpenGPTText_cSV_format/Human/urlsf_subset03 (1).csv')\n",
    "open_df_4=pd.read_csv('OpenGPTText_cSV_format/Human/urlsf_subset04 (1).csv')\n",
    "open_df_5=pd.read_csv('OpenGPTText_cSV_format/Human/urlsf_subset05 (1).csv')\n",
    "open_df_6=pd.read_csv('OpenGPTText_cSV_format/Human/urlsf_subset06 (1).csv')\n",
    "open_df_9=pd.read_csv('OpenGPTText_cSV_format/Human/urlsf_subset09 (1).csv')"
   ]
  },
  {
   "cell_type": "code",
   "execution_count": 14,
   "id": "0609b4d1",
   "metadata": {},
   "outputs": [
    {
     "data": {
      "text/html": [
       "<div>\n",
       "<style scoped>\n",
       "    .dataframe tbody tr th:only-of-type {\n",
       "        vertical-align: middle;\n",
       "    }\n",
       "\n",
       "    .dataframe tbody tr th {\n",
       "        vertical-align: top;\n",
       "    }\n",
       "\n",
       "    .dataframe thead th {\n",
       "        text-align: right;\n",
       "    }\n",
       "</style>\n",
       "<table border=\"1\" class=\"dataframe\">\n",
       "  <thead>\n",
       "    <tr style=\"text-align: right;\">\n",
       "      <th></th>\n",
       "      <th>uid</th>\n",
       "      <th>text</th>\n",
       "    </tr>\n",
       "  </thead>\n",
       "  <tbody>\n",
       "    <tr>\n",
       "      <th>0</th>\n",
       "      <td>[urlsf_subset00]-[83]</td>\n",
       "      <td>Check current weather conditions\\r\\nIt's going...</td>\n",
       "    </tr>\n",
       "    <tr>\n",
       "      <th>1</th>\n",
       "      <td>[urlsf_subset00]-[89]</td>\n",
       "      <td>On Thursday, the president of the United State...</td>\n",
       "    </tr>\n",
       "    <tr>\n",
       "      <th>2</th>\n",
       "      <td>[urlsf_subset00]-[390]</td>\n",
       "      <td>Curitiba -\\r\\nEl delantero Enner Valencia marc...</td>\n",
       "    </tr>\n",
       "    <tr>\n",
       "      <th>3</th>\n",
       "      <td>[urlsf_subset00]-[457]</td>\n",
       "      <td>Getting started\\r\\n(I'm using Windows 10)\\r\\nA...</td>\n",
       "    </tr>\n",
       "    <tr>\n",
       "      <th>4</th>\n",
       "      <td>[urlsf_subset00]-[458]</td>\n",
       "      <td>Today, Mexico's newest data retention law ente...</td>\n",
       "    </tr>\n",
       "  </tbody>\n",
       "</table>\n",
       "</div>"
      ],
      "text/plain": [
       "                      uid                                               text\n",
       "0   [urlsf_subset00]-[83]  Check current weather conditions\\r\\nIt's going...\n",
       "1   [urlsf_subset00]-[89]  On Thursday, the president of the United State...\n",
       "2  [urlsf_subset00]-[390]  Curitiba -\\r\\nEl delantero Enner Valencia marc...\n",
       "3  [urlsf_subset00]-[457]  Getting started\\r\\n(I'm using Windows 10)\\r\\nA...\n",
       "4  [urlsf_subset00]-[458]  Today, Mexico's newest data retention law ente..."
      ]
     },
     "execution_count": 14,
     "metadata": {},
     "output_type": "execute_result"
    }
   ],
   "source": [
    "open_df.head()\n",
    "open_df=pd.concat([open_df,open_df_1,open_df_2,open_df_3,open_df_4,open_df_5,open_df_6,open_df_9])\n",
    "open_df.head()"
   ]
  },
  {
   "cell_type": "code",
   "execution_count": 15,
   "id": "247555b3",
   "metadata": {},
   "outputs": [
    {
     "data": {
      "text/plain": [
       "(29142, 2)"
      ]
     },
     "execution_count": 15,
     "metadata": {},
     "output_type": "execute_result"
    }
   ],
   "source": [
    "open_df.shape"
   ]
  },
  {
   "cell_type": "code",
   "execution_count": 16,
   "id": "1d5da51b",
   "metadata": {},
   "outputs": [],
   "source": [
    "open_df['label']=0"
   ]
  },
  {
   "cell_type": "code",
   "execution_count": 17,
   "id": "feef4e5a",
   "metadata": {},
   "outputs": [
    {
     "data": {
      "text/html": [
       "<div>\n",
       "<style scoped>\n",
       "    .dataframe tbody tr th:only-of-type {\n",
       "        vertical-align: middle;\n",
       "    }\n",
       "\n",
       "    .dataframe tbody tr th {\n",
       "        vertical-align: top;\n",
       "    }\n",
       "\n",
       "    .dataframe thead th {\n",
       "        text-align: right;\n",
       "    }\n",
       "</style>\n",
       "<table border=\"1\" class=\"dataframe\">\n",
       "  <thead>\n",
       "    <tr style=\"text-align: right;\">\n",
       "      <th></th>\n",
       "      <th>text</th>\n",
       "      <th>label</th>\n",
       "    </tr>\n",
       "  </thead>\n",
       "  <tbody>\n",
       "    <tr>\n",
       "      <th>0</th>\n",
       "      <td>Check current weather conditions\\r\\nIt's going...</td>\n",
       "      <td>0</td>\n",
       "    </tr>\n",
       "    <tr>\n",
       "      <th>1</th>\n",
       "      <td>On Thursday, the president of the United State...</td>\n",
       "      <td>0</td>\n",
       "    </tr>\n",
       "    <tr>\n",
       "      <th>2</th>\n",
       "      <td>Curitiba -\\r\\nEl delantero Enner Valencia marc...</td>\n",
       "      <td>0</td>\n",
       "    </tr>\n",
       "    <tr>\n",
       "      <th>3</th>\n",
       "      <td>Getting started\\r\\n(I'm using Windows 10)\\r\\nA...</td>\n",
       "      <td>0</td>\n",
       "    </tr>\n",
       "    <tr>\n",
       "      <th>4</th>\n",
       "      <td>Today, Mexico's newest data retention law ente...</td>\n",
       "      <td>0</td>\n",
       "    </tr>\n",
       "    <tr>\n",
       "      <th>...</th>\n",
       "      <td>...</td>\n",
       "      <td>...</td>\n",
       "    </tr>\n",
       "    <tr>\n",
       "      <th>3648</th>\n",
       "      <td>Academic freedom -- for conservatives -- died ...</td>\n",
       "      <td>0</td>\n",
       "    </tr>\n",
       "    <tr>\n",
       "      <th>3649</th>\n",
       "      <td>When Dylan Higgins invited me on to the Field ...</td>\n",
       "      <td>0</td>\n",
       "    </tr>\n",
       "    <tr>\n",
       "      <th>3650</th>\n",
       "      <td>John Kasich. AP Photo/John Minchillo\\r\\nJohn K...</td>\n",
       "      <td>0</td>\n",
       "    </tr>\n",
       "    <tr>\n",
       "      <th>3651</th>\n",
       "      <td>A Navy-funded thermal engine bobbing off the c...</td>\n",
       "      <td>0</td>\n",
       "    </tr>\n",
       "    <tr>\n",
       "      <th>3652</th>\n",
       "      <td>A U.S. Army Black Hawk helicopter is seen. (Ph...</td>\n",
       "      <td>0</td>\n",
       "    </tr>\n",
       "  </tbody>\n",
       "</table>\n",
       "<p>29142 rows × 2 columns</p>\n",
       "</div>"
      ],
      "text/plain": [
       "                                                   text  label\n",
       "0     Check current weather conditions\\r\\nIt's going...      0\n",
       "1     On Thursday, the president of the United State...      0\n",
       "2     Curitiba -\\r\\nEl delantero Enner Valencia marc...      0\n",
       "3     Getting started\\r\\n(I'm using Windows 10)\\r\\nA...      0\n",
       "4     Today, Mexico's newest data retention law ente...      0\n",
       "...                                                 ...    ...\n",
       "3648  Academic freedom -- for conservatives -- died ...      0\n",
       "3649  When Dylan Higgins invited me on to the Field ...      0\n",
       "3650  John Kasich. AP Photo/John Minchillo\\r\\nJohn K...      0\n",
       "3651  A Navy-funded thermal engine bobbing off the c...      0\n",
       "3652  A U.S. Army Black Hawk helicopter is seen. (Ph...      0\n",
       "\n",
       "[29142 rows x 2 columns]"
      ]
     },
     "execution_count": 17,
     "metadata": {},
     "output_type": "execute_result"
    }
   ],
   "source": [
    "open_df.drop(columns=['uid'])"
   ]
  },
  {
   "cell_type": "code",
   "execution_count": 18,
   "id": "e68f69de",
   "metadata": {},
   "outputs": [],
   "source": [
    "open_df.to_csv('human.csv', index=False)"
   ]
  },
  {
   "cell_type": "code",
   "execution_count": 19,
   "id": "a871a11e",
   "metadata": {},
   "outputs": [
    {
     "name": "stdout",
     "output_type": "stream",
     "text": [
      "the: 960900\n",
      "to: 465387\n",
      "of: 417625\n",
      "and: 405063\n",
      "in: 319984\n",
      "that: 206867\n",
      "is: 174185\n",
      "for: 163822\n",
      "it: 149574\n",
      "on: 138599\n",
      "with: 116074\n",
      "as: 102692\n",
      "was: 98274\n",
      "be: 87686\n",
      "he: 87109\n",
      "this: 85823\n",
      "are: 81632\n",
      "at: 80810\n",
      "you: 79719\n",
      "have: 76194\n",
      "by: 75271\n",
      "from: 74341\n",
      "we: 70409\n",
      "but: 69319\n",
      "not: 65515\n",
      "said: 64968\n",
      "they: 63282\n",
      "has: 63252\n",
      "an: 62327\n",
      "his: 59209\n",
      "will: 54555\n",
      "or: 52355\n",
      "more: 46121\n",
      "their: 45787\n",
      "who: 44082\n",
      "can: 43245\n",
      "one: 43014\n",
      "about: 40916\n",
      "all: 39741\n",
      "if: 36909\n",
      "there: 36869\n",
      "which: 36226\n",
      "been: 36100\n",
      "up: 35828\n",
      "would: 35483\n",
      "had: 34710\n",
      "out: 34689\n",
      "were: 34602\n",
      "when: 34072\n",
      "what: 33601\n"
     ]
    },
    {
     "name": "stderr",
     "output_type": "stream",
     "text": [
      "/var/folders/hn/9hd29hb13471cqb3n5qsh7gw0000gn/T/ipykernel_87738/3785077587.py:24: FutureWarning: \n",
      "\n",
      "Passing `palette` without assigning `hue` is deprecated and will be removed in v0.14.0. Assign the `y` variable to `hue` and set `legend=False` for the same effect.\n",
      "\n",
      "  sns.barplot(x=list(freqs), y=list(words), palette='viridis')\n"
     ]
    },
    {
     "data": {
      "image/png": "[encoded data removed]",
      "text/plain": [
       "<Figure size 2000x1200 with 1 Axes>"
      ]
     },
     "metadata": {},
     "output_type": "display_data"
    }
   ],
   "source": [
    "import pandas as pd\n",
    "from sklearn.feature_extraction.text import CountVectorizer\n",
    "import matplotlib.pyplot as plt\n",
    "import seaborn as sns\n",
    "\n",
    "# Assuming ai_df is your dataframe and it contains a column 'text'\n",
    "# Step 1: Create the Bag of Words model\n",
    "vectorizer = CountVectorizer()\n",
    "X = vectorizer.fit_transform(open_df['text'])\n",
    "\n",
    "# Step 2: Sum up the word counts and get the top 25 words\n",
    "word_counts = X.toarray().sum(axis=0)\n",
    "word_freq = dict(zip(vectorizer.get_feature_names_out(), word_counts))\n",
    "sorted_word_freq = sorted(word_freq.items(), key=lambda item: item[1], reverse=True)\n",
    "top_50_words = sorted_word_freq[:50]\n",
    "\n",
    "# Print the top 25 words with their frequencies\n",
    "for word, freq in top_50_words:\n",
    "    print(f\"{word}: {freq}\")\n",
    "\n",
    "# Step 3: Plot the frequencies\n",
    "words, freqs = zip(*top_50_words)\n",
    "plt.figure(figsize=(20, 12))\n",
    "sns.barplot(x=list(freqs), y=list(words), palette='viridis')\n",
    "plt.xlabel('Frequency')\n",
    "plt.ylabel('Top 50 Words')\n",
    "plt.title('Top 50 Words by Frequency')\n",
    "plt.show()\n"
   ]
  }
 ],
 "metadata": {
  "kernelspec": {
   "display_name": "base",
   "language": "python",
   "name": "python3"
  },
  "language_info": {
   "codemirror_mode": {
    "name": "ipython",
    "version": 3
   },
   "file_extension": ".py",
   "mimetype": "text/x-python",
   "name": "python",
   "nbconvert_exporter": "python",
   "pygments_lexer": "ipython3",
   "version": "3.12.7"
  }
 },
 "nbformat": 4,
 "nbformat_minor": 5
}
